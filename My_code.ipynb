{
  "nbformat": 4,
  "nbformat_minor": 0,
  "metadata": {
    "colab": {
      "name": "My_code.ipynb",
      "provenance": []
    },
    "kernelspec": {
      "name": "python3",
      "display_name": "Python 3"
    },
    "language_info": {
      "name": "python"
    }
  },
  "cells": [
    {
      "cell_type": "code",
      "metadata": {
        "id": "nBd7SeRUG0FS"
      },
      "source": [
        "#Грузим библиотеки\n",
        "\n",
        "import numpy as np # linear algebra\n",
        "import pandas as pd # data processing, CSV file I/O (e.g. pd.read_csv)\n",
        "import os\n",
        "import zipfile\n",
        "import shutil\n",
        "import torch\n",
        "import torchvision\n",
        "import time\n",
        "import copy\n",
        "from tqdm import tqdm\n",
        "from google.colab import drive\n",
        "import matplotlib.pyplot as plt\n",
        "from torchvision import transforms, models"
      ],
      "execution_count": null,
      "outputs": []
    },
    {
      "cell_type": "code",
      "metadata": {
        "id": "OYrc6u_XHBHs"
      },
      "source": [
        "#Функция отображения\n",
        "def show_input(input_tensor, title=''):\n",
        "  image = input_tensor.permute(1, 2, 0).numpy()\n",
        "  image = std * image + mean\n",
        "  plt.imshow(image.clip(0, 1))\n",
        "  plt.title(title)\n",
        "  plt.show()\n",
        "  plt.pause(0.001)\n",
        "\n",
        "#Функция обучения\n",
        "def train_model(model, loss, optimizer, scheduler, num_epochs):\n",
        "    train_loss, val_loss = [], []\n",
        "    train_acc, val_acc = [], []\n",
        "  \n",
        "    for epoch in range(num_epochs):\n",
        "        print('Epoch {}/{}:'.format(epoch, num_epochs - 1), flush=True)\n",
        "\n",
        "        # Each epoch has a training and validation phase\n",
        "        for phase in ['train', 'val']:\n",
        "            if phase == 'train':\n",
        "                dataloader = train_dataloader\n",
        "                scheduler.step()\n",
        "                model.train()  # Set model to training mode\n",
        "            else:\n",
        "                dataloader = val_dataloader\n",
        "                model.eval()   # Set model to evaluate mode\n",
        "\n",
        "            running_loss = 0.\n",
        "            running_acc = 0.\n",
        "\n",
        "            # Iterate over data.\n",
        "            for inputs, labels in tqdm(dataloader):\n",
        "                inputs = inputs.to(device)\n",
        "                labels = labels.to(device)\n",
        "\n",
        "                optimizer.zero_grad()\n",
        "\n",
        "                # forward and backward\n",
        "                with torch.set_grad_enabled(phase == 'train'):\n",
        "                    preds = model(inputs)\n",
        "                    loss_value = loss(preds, labels)\n",
        "                    preds_class = preds.argmax(dim=1)\n",
        "\n",
        "                    # backward + optimize only if in training phase\n",
        "                    if phase == 'train':\n",
        "                        loss_value.backward()\n",
        "                        optimizer.step()\n",
        "\n",
        "                # statistics\n",
        "                running_loss += loss_value.item()\n",
        "                running_acc += (preds_class == labels.data).float().mean()\n",
        "\n",
        "            epoch_loss = running_loss / len(dataloader)\n",
        "            epoch_acc = running_acc / len(dataloader)\n",
        "\n",
        "            if phase == 'train':\n",
        "              if (epoch > 0) and (epoch_loss < min(train_loss)) and (epoch_loss < 0.2896):\n",
        "                torch.save(model.state_dict(), '/content/drive/MyDrive/stepik/kaggle/best_models/{}_{}_loss_{:.4f}.pth'.format(epoch, phase, epoch_loss))\n",
        "              if (epoch > 0) and (epoch_acc > max(train_acc)) and (epoch_acc > 0.8889):\n",
        "                torch.save(model.state_dict(), '/content/drive/MyDrive/stepik/kaggle/best_models/{}_{}_acc_{:.4f}.pth'.format(epoch, phase, epoch_acc))\n",
        "              \n",
        "              train_loss.append(epoch_loss)\n",
        "              train_acc.append(epoch_acc)\n",
        "            else:\n",
        "              if (epoch > 0) and (epoch_loss < min(val_loss)) and (epoch_loss < 0.0134):\n",
        "                torch.save(model.state_dict(), '/content/drive/MyDrive/stepik/kaggle/best_models/{}_{}_loss_{:.4f}.pth'.format(epoch, phase, epoch_loss))\n",
        "              if (epoch > 0) and (epoch_acc > max(val_acc)) and (epoch_acc > 0.9):\n",
        "                torch.save(model.state_dict(), '/content/drive/MyDrive/stepik/kaggle/best_models/{}_{}_acc_{:.4f}.pth'.format(epoch, phase, epoch_acc))\n",
        "              \n",
        "              val_loss.append(epoch_loss)\n",
        "              val_acc.append(epoch_acc)\n",
        "\n",
        "            print('{} Loss: {:.4f} Acc: {:.4f}'.format(phase, epoch_loss, epoch_acc), flush=True)\n",
        "\n",
        "    plt.plot(train_loss, label='train_loss')\n",
        "    plt.plot(val_loss, label='val_loss')\n",
        "    plt.legend()\n",
        "    plt.show()\n",
        "\n",
        "    plt.plot(train_acc, label='train_acc')\n",
        "    plt.plot(val_acc, label='val_acc')\n",
        "    plt.legend()\n",
        "    plt.show()\n",
        "\n",
        "    return model"
      ],
      "execution_count": null,
      "outputs": []
    },
    {
      "cell_type": "code",
      "metadata": {
        "id": "7h-f-sfxHVYz"
      },
      "source": [
        "#Вспомогательный класс для разметки\n",
        "\n",
        "class ImageFolderWithPaths(torchvision.datasets.ImageFolder):\n",
        "    def __getitem__(self, index):\n",
        "        original_tuple = super(ImageFolderWithPaths, self).__getitem__(index)\n",
        "        path = self.imgs[index][0]\n",
        "        tuple_with_path = (original_tuple + (path,))\n",
        "        return tuple_with_path"
      ],
      "execution_count": null,
      "outputs": []
    },
    {
      "cell_type": "code",
      "metadata": {
        "id": "ZymhWIxGHqjm"
      },
      "source": [
        "#Модель\n",
        "\n",
        "class MyEnsemble(torch.nn.Module):\n",
        "    def __init__(self, modelA, modelB, modelC, nb_classes=2):\n",
        "        super(MyEnsemble, self).__init__()\n",
        "        self.modelA = modelA\n",
        "        self.modelB = modelB\n",
        "        self.modelC = modelC\n",
        "\n",
        "        self.modelA.fc = torch.nn.Identity()\n",
        "        self.modelB.fc = torch.nn.Identity()\n",
        "        self.modelC.fc = torch.nn.Identity()\n",
        "\n",
        "        self.classifier = torch.nn.Linear(4608, nb_classes)\n",
        "        \n",
        "    def forward(self, x):\n",
        "        x1 = self.modelA(x.clone())\n",
        "        x1 = x1.view(x1.size(0), -1)\n",
        "        x2 = self.modelB(x.clone())\n",
        "        x2 = x1.view(x2.size(0), -1)\n",
        "        x3 = self.modelC(x)\n",
        "        x3 = x3.view(x3.size(0), -1)\n",
        "        x = torch.cat((x1, x2, x3), dim=1)\n",
        "        \n",
        "        x = self.classifier(x)\n",
        "\n",
        "        return x"
      ],
      "execution_count": null,
      "outputs": []
    },
    {
      "cell_type": "code",
      "metadata": {
        "id": "JWbN1DEfH7im"
      },
      "source": [
        "#Подрубаем диск\n",
        "\n",
        "drive.mount('/content/drive')"
      ],
      "execution_count": null,
      "outputs": []
    },
    {
      "cell_type": "code",
      "metadata": {
        "id": "Zt8rnXH_IFRh"
      },
      "source": [
        "#Распаковываем архив\n",
        "\n",
        "print(os.listdir(\"/content/drive/MyDrive/stepik/kaggle\"))\n",
        "\n",
        "with zipfile.ZipFile('/content/drive/MyDrive/stepik/kaggle/plates.zip', 'r') as zip_obj:\n",
        "   zip_obj.extractall('/content/drive/MyDrive/stepik/kaggle/working/')\n",
        "    \n",
        "print('After zip extraction:')\n",
        "print(os.listdir(\"/content/drive/MyDrive/stepik/kaggle/working/\"))"
      ],
      "execution_count": null,
      "outputs": []
    },
    {
      "cell_type": "code",
      "metadata": {
        "id": "re4L-wcHIOUX"
      },
      "source": [
        "#Определеям корневую директорию\n",
        "\n",
        "data_root = '/content/drive/MyDrive/stepik/kaggle/working/plates/'\n",
        "print(os.listdir(data_root))"
      ],
      "execution_count": null,
      "outputs": []
    },
    {
      "cell_type": "code",
      "metadata": {
        "id": "sLNtwy3yIYBn"
      },
      "source": [
        "#Создаём датасеты\n",
        "\n",
        "train_dir = 'train'\n",
        "val_dir = 'val'\n",
        "\n",
        "class_names = ['cleaned', 'dirty']\n",
        "\n",
        "for dir_name in [train_dir, val_dir]:\n",
        "    for class_name in class_names:\n",
        "        os.makedirs(os.path.join(dir_name, class_name), exist_ok=True)\n",
        "\n",
        "for class_name in class_names:\n",
        "    source_dir = os.path.join(data_root, 'train', class_name)\n",
        "    for i, file_name in enumerate(tqdm(os.listdir(source_dir))):\n",
        "        if i % 6 != 0:\n",
        "            dest_dir = os.path.join(train_dir, class_name) \n",
        "        else:\n",
        "            dest_dir = os.path.join(val_dir, class_name)\n",
        "        shutil.copy(os.path.join(source_dir, file_name), os.path.join(dest_dir, file_name))"
      ],
      "execution_count": null,
      "outputs": []
    },
    {
      "cell_type": "code",
      "metadata": {
        "id": "Sr0-EHc1Ie9D"
      },
      "source": [
        "#Задаём сид\n",
        "\n",
        "torch.manual_seed(10)"
      ],
      "execution_count": null,
      "outputs": []
    },
    {
      "cell_type": "code",
      "metadata": {
        "id": "Z3Sl_dAtIqSA"
      },
      "source": [
        "#Аугментация изображений\n",
        "\n",
        "train_transforms = transforms.Compose([\n",
        "    transforms.RandomResizedCrop(224, scale=(0.6, 1.0)),\n",
        "    transforms.RandomHorizontalFlip(),\n",
        "    transforms.RandomRotation((10, 350)),\n",
        "    transforms.CenterCrop(224),\n",
        "    transforms.RandomVerticalFlip(),\n",
        "    transforms.ColorJitter(0.6, 0.6, 0.3, 0.3),\n",
        "    transforms.ToTensor(),\n",
        "    transforms.Normalize([0.485, 0.456, 0.406], [0.229, 0.224, 0.225])\n",
        "])\n",
        "\n",
        "val_transforms = transforms.Compose([\n",
        "    transforms.RandomHorizontalFlip(),\n",
        "    transforms.RandomRotation((10, 45)),\n",
        "    transforms.RandomVerticalFlip(),\n",
        "    transforms.Resize((224, 224)),\n",
        "    transforms.ToTensor(),\n",
        "    transforms.Normalize([0.485, 0.456, 0.406], [0.229, 0.224, 0.225])\n",
        "])\n",
        "\n",
        "test_transforms = transforms.Compose([\n",
        "    transforms.Resize((224, 224)),\n",
        "    transforms.ToTensor(),\n",
        "    transforms.Normalize([0.485, 0.456, 0.406], [0.229, 0.224, 0.225])\n",
        "])"
      ],
      "execution_count": null,
      "outputs": []
    },
    {
      "cell_type": "code",
      "metadata": {
        "id": "ENiHqGreI3X2"
      },
      "source": [
        "#Датасеты и загрузчики.\n",
        "\n",
        "train_dataset = torchvision.datasets.ImageFolder(train_dir, train_transforms)\n",
        "val_dataset = torchvision.datasets.ImageFolder(val_dir, val_transforms)\n",
        "\n",
        "batch_size = 2\n",
        "train_dataloader = torch.utils.data.DataLoader(\n",
        "    train_dataset, batch_size=batch_size, shuffle=True, num_workers=2)\n",
        "val_dataloader = torch.utils.data.DataLoader(\n",
        "    val_dataset, batch_size=batch_size, shuffle=False, num_workers=2)"
      ],
      "execution_count": null,
      "outputs": []
    },
    {
      "cell_type": "code",
      "metadata": {
        "id": "xutkzh5kJDKu"
      },
      "source": [
        "#Инициализируем модель.\n",
        "\n",
        "modelA = models.resnet50(pretrained=True)\n",
        "modelB = models.resnet34(pretrained=True)\n",
        "modelC = models.resnet18(pretrained=True)\n",
        "\n",
        "for param in modelA.parameters():\n",
        "    param.requires_grad_(False)\n",
        "\n",
        "for param in modelB.parameters():\n",
        "    param.requires_grad_(False)\n",
        "\n",
        "for param in modelC.parameters():\n",
        "    param.requires_grad_(False)\n",
        "\n",
        "model = MyEnsemble(modelA, modelB, modelC)\n",
        "\n",
        "device = torch.device(\"cuda:0\" if torch.cuda.is_available() else \"cpu\")\n",
        "model = model.to(device)\n",
        "\n",
        "loss = torch.nn.CrossEntropyLoss()\n",
        "\n",
        "optimizer = torch.optim.Adam(model.parameters(), lr=2.0e-3, amsgrad=True)\n",
        "\n",
        "scheduler = torch.optim.lr_scheduler.StepLR(optimizer, step_size=7, gamma=0.1)"
      ],
      "execution_count": null,
      "outputs": []
    },
    {
      "cell_type": "code",
      "metadata": {
        "id": "AnSYk6ugJVip"
      },
      "source": [
        "#Обучаем модель\n",
        "\n",
        "train_model(model, loss, optimizer, scheduler, num_epochs=300)"
      ],
      "execution_count": null,
      "outputs": []
    },
    {
      "cell_type": "code",
      "metadata": {
        "id": "0iLN4kyXJdPR"
      },
      "source": [
        "#Создаём тестовый датасет и загрузчик\n",
        "\n",
        "test_dir = 'test'\n",
        "shutil.copytree(os.path.join(data_root, 'test/test'), os.path.join(test_dir, 'unknown'))\n",
        "\n",
        "test_dataset = ImageFolderWithPaths('/content/drive/MyDrive/stepik/kaggle/working/plates/test/', test_transforms)\n",
        "\n",
        "test_dataloader = torch.utils.data.DataLoader(\n",
        "    test_dataset, batch_size=batch_size, shuffle=False, num_workers=2)"
      ],
      "execution_count": null,
      "outputs": []
    },
    {
      "cell_type": "code",
      "metadata": {
        "id": "OM6xaW4dJs_Z"
      },
      "source": [
        "#Загружаем сохранённые веса\n",
        "\n",
        "model.load_state_dict(torch.load('/content/drive/MyDrive/stepik/kaggle/best_models/164_train_loss_0.2896.pth'))"
      ],
      "execution_count": null,
      "outputs": []
    },
    {
      "cell_type": "code",
      "metadata": {
        "id": "RpPecFSGJ3i4"
      },
      "source": [
        "#Проводим классификацию\n",
        "\n",
        "model.eval()\n",
        "\n",
        "test_predictions = []\n",
        "test_img_paths = []\n",
        "for inputs, labels, paths in tqdm(test_dataloader):\n",
        "    inputs = inputs.to(device)\n",
        "    labels = labels.to(device)\n",
        "    with torch.set_grad_enabled(False):\n",
        "        preds = model(inputs)\n",
        "    test_predictions.append(\n",
        "        torch.nn.functional.softmax(preds, dim=1)[:,1].data.cpu().numpy())\n",
        "    test_img_paths.extend(paths)\n",
        "    \n",
        "test_predictions = np.concatenate(test_predictions)"
      ],
      "execution_count": null,
      "outputs": []
    },
    {
      "cell_type": "code",
      "metadata": {
        "id": "ZWsXiznTKH-4"
      },
      "source": [
        "#Создаём файл с разметкой\n",
        "\n",
        "submission_df = pd.DataFrame.from_dict({'id': test_img_paths, 'label': test_predictions})\n",
        "\n",
        "submission_df['label'] = submission_df['label'].map(lambda pred: 'dirty' if pred > 0.5 else 'cleaned')\n",
        "submission_df['id'] = submission_df['id'].str.replace('/content/drive/MyDrive/stepik/kaggle/working/plates/test/test/', '')\n",
        "submission_df['id'] = submission_df['id'].str.replace('.jpg', '')\n",
        "submission_df.set_index('id', inplace=True)\n",
        "submission_df.head(n=6)"
      ],
      "execution_count": null,
      "outputs": []
    },
    {
      "cell_type": "code",
      "metadata": {
        "id": "o4B2xww_Kgf4"
      },
      "source": [
        "#Сохраняем файл.\n",
        "\n",
        "submission_df.to_csv('164_train_loss_0.2896.csv')"
      ],
      "execution_count": null,
      "outputs": []
    }
  ]
}